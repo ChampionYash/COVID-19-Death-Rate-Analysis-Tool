{
  "cells": [
    {
      "cell_type": "code",
      "execution_count": null,
      "metadata": {
        "vscode": {
          "languageId": "plaintext"
        }
      },
      "outputs": [],
      "source": [
        "# COVID-19 Death Rate Analysis\n",
        "\n",
        "In this notebook, we'll analyze the death rate of the COVID-19 pandemic using Python and data from Worldometer spanning from April 18 to May 18, 2020.\n"
      ]
    },
    {
      "cell_type": "code",
      "execution_count": null,
      "metadata": {},
      "outputs": [],
      "source": [
        "import numpy as np\n",
        "import pandas as pd\n",
        "import matplotlib.pyplot as plt\n",
        "from datetime import datetime\n"
      ]
    },
    {
      "cell_type": "code",
      "execution_count": null,
      "metadata": {},
      "outputs": [],
      "source": [
        "# Load the main data table and display it\n",
        "worldometer_df = pd.read_csv('worldometer_snapshots_April18_to_May18.csv')\n",
        "worldometer_df.head()\n"
      ]
    },
    {
      "cell_type": "code",
      "execution_count": null,
      "metadata": {},
      "outputs": [],
      "source": [
        "# Display a sub-table of a specific country\n",
        "country_name = 'USA'\n",
        "\n",
        "country_df = worldometer_df.loc[worldometer_df['Country'] == country_name, :].reset_index(drop=True)\n",
        "country_df.head()\n"
      ]
    },
    {
      "cell_type": "code",
      "execution_count": null,
      "metadata": {},
      "outputs": [],
      "source": [
        "# Display a sub-table of a specific date\n",
        "selected_date = datetime.strptime('18/05/2020', '%d/%m/%Y')\n",
        "\n",
        "selected_date_df = worldometer_df.loc[worldometer_df['Date'] == selected_date.strftime('%Y-%m-%d'), :].reset_index(drop=True)\n",
        "selected_date_df.head()\n"
      ]
    },
    {
      "cell_type": "code",
      "execution_count": null,
      "metadata": {},
      "outputs": [],
      "source": [
        "# Take the last date and continue analysis\n",
        "last_date = datetime.strptime('18/05/2020', '%d/%m/%Y')\n",
        "\n",
        "last_date_df = worldometer_df.loc[worldometer_df['Date'] == last_date.strftime('%Y-%m-%d'), :].reset_index(drop=True)\n",
        "last_date_df.head()\n"
      ]
    },
    {
      "cell_type": "code",
      "execution_count": null,
      "metadata": {},
      "outputs": [],
      "source": [
        "# Calculate the naive death rate for each country and show histogram\n",
        "last_date_df['Case Fatality Ratio'] = last_date_df['Total Deaths'] / last_date_df['Total Cases']\n",
        "\n",
        "plt.figure(figsize=(12,8))\n",
        "plt.hist(100 * np.array(last_date_df['Case Fatality Ratio']), bins=np.arange(35))\n",
        "plt.xlabel('Death Rate (%)', fontsize=16)\n",
        "plt.ylabel('Number of Countries', fontsize=16)\n",
        "plt.title('Histogram of Death Rates for various Countries', fontsize=18)\n",
        "plt.show()\n"
      ]
    },
    {
      "cell_type": "code",
      "execution_count": null,
      "metadata": {},
      "outputs": [],
      "source": [
        "# Filter out countries with small amount of cases\n",
        "min_number_of_cases = 1000\n",
        "\n",
        "greatly_affected_df = last_date_df.loc[last_date_df['Total Cases'] > min_number_of_cases,:]\n",
        "\n",
        "plt.figure(figsize=(12,8))\n",
        "plt.hist(100 * np.array(greatly_affected_df['Case Fatality Ratio']), bins=np.arange(35))\n",
        "plt.xlabel('Death Rate (%)', fontsize=16)\n",
        "plt.ylabel('Number of Countries', fontsize=16)\n",
        "plt.title('Histogram of Death Rates for various Countries', fontsize=18)\n",
        "plt.show()\n"
      ]
    },
    {
      "cell_type": "code",
      "execution_count": null,
      "metadata": {},
      "outputs": [],
      "source": [
        "# Plot scatter of death rate as function of testing quality\n",
        "last_date_df['Num Tests per Positive Case'] = last_date_df['Total Tests'] / last_date_df['Total Cases']\n",
        "\n",
        "min_number_of_cases = 1000\n",
        "greatly_affected_df = last_date_df.loc[last_date_df['Total Cases'] > min_number_of_cases,:]\n",
        "\n",
        "x_axis_limit = 80\n",
        "\n",
        "death_rate_percent = 100 * np.array(greatly_affected_df['Case Fatality Ratio'])\n",
        "num_test_per_positive = np.array(greatly_affected_df['Num Tests per Positive Case'])\n",
        "num_test_per_positive[num_test_per_positive > x_axis_limit] = x_axis_limit\n",
        "total_num_deaths = np.array(greatly_affected_df['Total Deaths'])\n",
        "population = np.array(greatly_affected_df['Population'])\n",
        "\n",
        "plt.figure(figsize=(16,12))\n",
        "plt.scatter(x=num_test_per_positive, y=death_rate_percent, \n",
        "            s=0.5*np.power(np.log(1+population),2), \n",
        "            c=np.log10(1+total_num_deaths))\n",
        "plt.colorbar()\n",
        "plt.ylabel('Death Rate (%)', fontsize=16)\n",
        "plt.xlabel('Number of Tests per Positive Case', fontsize=16)\n",
        "plt.title('Death Rate as function of Testing Quality', fontsize=18)\n",
        "plt.xlim(-1, x_axis_limit + 12)\n",
        "plt.ylim(-0.2,17)\n"
      ]
    },
    {
      "cell_type": "code",
      "execution_count": null,
      "metadata": {},
      "outputs": [],
      "source": [
        "# Plot on top of the figure the names of the countries\n",
        "countries_to_display = ['USA', 'Russia', 'Spain', 'Brazil', 'UK', 'Italy', 'France', \n",
        "                        'Germany', 'India', 'Canada', 'Belgium', 'Mexico', 'Netherlands', \n",
        "                        'Sweden', 'Portugal', 'UAE', 'Poland', 'Indonesia', 'Romania', \n",
        "                        'Israel','Thailand','Kyrgyzstan','El Salvador', 'S. Korea', \n",
        "                        'Denmark', 'Serbia', 'Norway', 'Algeria', 'Bahrain','Slovenia',\n",
        "                        'Greece','Cuba','Hong Kong','Lithuania', 'Australia', 'Morocco', \n",
        "                        'Malaysia', 'Nigeria', 'Moldova', 'Ghana', 'Armenia', 'Bolivia', \n",
        "                        'Iraq', 'Hungary', 'Cameroon', 'Azerbaijan']\n",
        "\n",
        "for country_name in countries_to_display:\n",
        "    country_indices = greatly_affected_df.index[greatly_affected_df['Country'] == country_name].tolist()\n",
        "    if country_indices:  # Check if the country exists in the dataframe\n",
        "        country_index = country_indices[0]\n",
        "        plt.text(x=num_test_per_positive[country_index] + 0.5,\n",
        "                y=death_rate_percent[country_index] + 0.2,\n",
        "                s=country_name, fontsize=10)\n",
        "plt.show()\n"
      ]
    },
    {
      "cell_type": "code",
      "execution_count": null,
      "metadata": {},
      "outputs": [],
      "source": [
        "# Look at data from best testing countries\n",
        "good_testing_threshold = 50\n",
        "good_testing_df = greatly_affected_df.loc[greatly_affected_df['Num Tests per Positive Case'] > good_testing_threshold,:]\n",
        "good_testing_df[['Country', 'Total Cases', 'Total Deaths', 'Total Tests', 'Num Tests per Positive Case', 'Case Fatality Ratio']]\n"
      ]
    },
    {
      "cell_type": "code",
      "execution_count": null,
      "metadata": {},
      "outputs": [],
      "source": [
        "# Calculate the Death Rate for these countries\n",
        "estimated_death_rate_percent = 100 * good_testing_df['Total Deaths'].sum() / good_testing_df['Total Cases'].sum()\n",
        "\n",
        "print(f'Death Rate only for \"good testing countries\" is {estimated_death_rate_percent:.2f}%')\n"
      ]
    },
    {
      "cell_type": "code",
      "execution_count": null,
      "metadata": {},
      "outputs": [],
      "source": [
        "## Conclusion\n",
        "\n",
        "This analysis shows:\n",
        "\n",
        "1. There's a wide spread of COVID-19 death rates across countries, which shouldn't be expected if humans are affected similarly by the disease.\n",
        "2. After filtering out countries with fewer than 1,000 cases, the spread is still substantial.\n",
        "3. When looking at testing quality (tests per positive case), we see a clear pattern: countries with better testing tend to have more consistent and lower death rates.\n",
        "4. The most accurate estimate of the COVID-19 death rate comes from countries with good testing (>50 tests per positive case), which is approximately 1.3%.\n",
        "\n",
        "This suggests that differences in testing strategies significantly impact the reported death rates across countries.\n"
      ]
    }
  ],
  "metadata": {
    "language_info": {
      "name": "python"
    }
  },
  "nbformat": 4,
  "nbformat_minor": 2
}
